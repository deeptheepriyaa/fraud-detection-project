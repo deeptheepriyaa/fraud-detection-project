{
 "cells": [
  {
   "cell_type": "code",
   "execution_count": 3,
   "id": "d7e700a2-e562-40af-824a-c5d9bd2be107",
   "metadata": {},
   "outputs": [
    {
     "name": "stdout",
     "output_type": "stream",
     "text": [
      "✅ Reduced dataset saved: creditcard_small.csv\n"
     ]
    }
   ],
   "source": [
    "import pandas as pd\n",
    "\n",
    "# Load dataset\n",
    "df = pd.read_csv(\"C:/Users/mrnde/fraud-detection-project/data/creditcard.csv\")\n",
    "\n",
    "\n",
    "\n",
    "# Sample 10% of the data\n",
    "df_small = df.sample(frac=0.1, random_state=42)\n",
    "\n",
    "# Save the reduced dataset\n",
    "df_small.to_csv(\"C:/Users/mrnde/fraud-detection-project/data/creditcard.csv\", index=False)\n",
    "\n",
    "print(\"✅ Reduced dataset saved: creditcard_small.csv\")\n"
   ]
  },
  {
   "cell_type": "code",
   "execution_count": 4,
   "id": "d304262c-03b2-49af-9e98-fad62cdf263b",
   "metadata": {},
   "outputs": [],
   "source": [
    "import pandas as pd\n"
   ]
  },
  {
   "cell_type": "code",
   "execution_count": null,
   "id": "86d1fb41-3025-4914-ab7c-94973906fc70",
   "metadata": {},
   "outputs": [],
   "source": []
  }
 ],
 "metadata": {
  "kernelspec": {
   "display_name": "Python 3 (ipykernel)",
   "language": "python",
   "name": "python3"
  },
  "language_info": {
   "codemirror_mode": {
    "name": "ipython",
    "version": 3
   },
   "file_extension": ".py",
   "mimetype": "text/x-python",
   "name": "python",
   "nbconvert_exporter": "python",
   "pygments_lexer": "ipython3",
   "version": "3.11.9"
  }
 },
 "nbformat": 4,
 "nbformat_minor": 5
}
